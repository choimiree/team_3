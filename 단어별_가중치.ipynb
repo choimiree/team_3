{
  "nbformat": 4,
  "nbformat_minor": 0,
  "metadata": {
    "colab": {
      "name": "단어별 가중치.ipynb",
      "provenance": [],
      "collapsed_sections": [],
      "authorship_tag": "ABX9TyOzfZa8b2CLx8wtGepomwkP",
      "include_colab_link": true
    },
    "kernelspec": {
      "name": "python3",
      "display_name": "Python 3"
    }
  },
  "cells": [
    {
      "cell_type": "markdown",
      "metadata": {
        "id": "view-in-github",
        "colab_type": "text"
      },
      "source": [
        "<a href=\"https://colab.research.google.com/github/choimiree/team_3/blob/main/%EB%8B%A8%EC%96%B4%EB%B3%84_%EA%B0%80%EC%A4%91%EC%B9%98.ipynb\" target=\"_parent\"><img src=\"https://colab.research.google.com/assets/colab-badge.svg\" alt=\"Open In Colab\"/></a>"
      ]
    },
    {
      "cell_type": "markdown",
      "metadata": {
        "id": "jE-qwa2S4J_c"
      },
      "source": [
        "# 데이터와 모형 불러오기"
      ]
    },
    {
      "cell_type": "code",
      "metadata": {
        "id": "gIdl8D15PO-t"
      },
      "source": [
        "import pandas as pd\n",
        "df = pd.read_csv('https://github.com/euphoris/datasets/raw/master/imdb.zip')"
      ],
      "execution_count": 1,
      "outputs": []
    },
    {
      "cell_type": "code",
      "metadata": {
        "id": "lpiDKcaPPbsC"
      },
      "source": [
        "from sklearn.feature_extraction.text import CountVectorizer"
      ],
      "execution_count": 2,
      "outputs": []
    },
    {
      "cell_type": "code",
      "metadata": {
        "id": "MXtIljCtPc1D"
      },
      "source": [
        "cv = CountVectorizer(max_features=1000, stop_words='english')"
      ],
      "execution_count": 3,
      "outputs": []
    },
    {
      "cell_type": "code",
      "metadata": {
        "id": "wgYNDUL7Pfus"
      },
      "source": [
        "tdm = cv.fit_transform(df['review'])"
      ],
      "execution_count": 4,
      "outputs": []
    },
    {
      "cell_type": "code",
      "metadata": {
        "id": "1E5KqJstPiDe"
      },
      "source": [
        "x=tdm\n",
        "y=df['sentiment']"
      ],
      "execution_count": 5,
      "outputs": []
    },
    {
      "cell_type": "code",
      "metadata": {
        "id": "7fyqYGg8PrNr"
      },
      "source": [
        "from sklearn.model_selection import train_test_split\n",
        "x_train, x_test, y_train, y_test = train_test_split(x, y, test_size=0.2, random_state=42)"
      ],
      "execution_count": 6,
      "outputs": []
    },
    {
      "cell_type": "code",
      "metadata": {
        "id": "AAihGHsG4Pz0",
        "colab": {
          "base_uri": "https://localhost:8080/"
        },
        "outputId": "5badb228-1a3e-4565-9d91-6f2dc676dd3a"
      },
      "source": [
        "import joblib\n",
        "joblib.dump((cv, x_train, x_test, y_train, y_test), 'imdb.pkl')"
      ],
      "execution_count": 7,
      "outputs": [
        {
          "output_type": "execute_result",
          "data": {
            "text/plain": [
              "['imdb.pkl']"
            ]
          },
          "metadata": {
            "tags": []
          },
          "execution_count": 7
        }
      ]
    },
    {
      "cell_type": "code",
      "metadata": {
        "id": "V6nhebVH4RRE"
      },
      "source": [
        "cv, *_ = joblib.load('imdb.pkl')"
      ],
      "execution_count": 8,
      "outputs": []
    },
    {
      "cell_type": "code",
      "metadata": {
        "id": "RSi_fEl04Uyc"
      },
      "source": [
        "import tensorflow as tf"
      ],
      "execution_count": 9,
      "outputs": []
    },
    {
      "cell_type": "code",
      "metadata": {
        "id": "xcxlSOKiQkNL"
      },
      "source": [
        "model = tf.keras.models.Sequential()"
      ],
      "execution_count": 10,
      "outputs": []
    },
    {
      "cell_type": "code",
      "metadata": {
        "id": "UFfYzzLKQmmv"
      },
      "source": [
        "model.add(tf.keras.layers.Dense(\n",
        "    1,\n",
        "    input_shape = (1000,),\n",
        "    activation='sigmoid'\n",
        "))"
      ],
      "execution_count": 11,
      "outputs": []
    },
    {
      "cell_type": "code",
      "metadata": {
        "id": "KEZ7dfznQ1Ts"
      },
      "source": [
        "model.compile(optimizer='adam', loss='binary_crossentropy', metrics=['accuracy'])"
      ],
      "execution_count": 12,
      "outputs": []
    },
    {
      "cell_type": "code",
      "metadata": {
        "colab": {
          "base_uri": "https://localhost:8080/"
        },
        "id": "SSfqRyEPQ5pR",
        "outputId": "83cc922c-7e54-4224-b658-57d0b7b6bf09"
      },
      "source": [
        "model.fit(x_train.toarray(), y_train.values, batch_size=32, epochs=10)"
      ],
      "execution_count": 13,
      "outputs": [
        {
          "output_type": "stream",
          "text": [
            "Epoch 1/10\n",
            "25/25 [==============================] - 0s 1ms/step - loss: 0.6898 - accuracy: 0.5350\n",
            "Epoch 2/10\n",
            "25/25 [==============================] - 0s 1ms/step - loss: 0.6783 - accuracy: 0.6050\n",
            "Epoch 3/10\n",
            "25/25 [==============================] - 0s 1ms/step - loss: 0.6675 - accuracy: 0.6750\n",
            "Epoch 4/10\n",
            "25/25 [==============================] - 0s 1ms/step - loss: 0.6571 - accuracy: 0.7275\n",
            "Epoch 5/10\n",
            "25/25 [==============================] - 0s 1ms/step - loss: 0.6470 - accuracy: 0.7750\n",
            "Epoch 6/10\n",
            "25/25 [==============================] - 0s 1ms/step - loss: 0.6372 - accuracy: 0.8100\n",
            "Epoch 7/10\n",
            "25/25 [==============================] - 0s 1ms/step - loss: 0.6276 - accuracy: 0.8375\n",
            "Epoch 8/10\n",
            "25/25 [==============================] - 0s 1ms/step - loss: 0.6185 - accuracy: 0.8487\n",
            "Epoch 9/10\n",
            "25/25 [==============================] - 0s 1ms/step - loss: 0.6095 - accuracy: 0.8562\n",
            "Epoch 10/10\n",
            "25/25 [==============================] - 0s 1ms/step - loss: 0.6009 - accuracy: 0.8662\n"
          ],
          "name": "stdout"
        },
        {
          "output_type": "execute_result",
          "data": {
            "text/plain": [
              "<tensorflow.python.keras.callbacks.History at 0x7f73a98d7748>"
            ]
          },
          "metadata": {
            "tags": []
          },
          "execution_count": 13
        }
      ]
    },
    {
      "cell_type": "code",
      "metadata": {
        "colab": {
          "base_uri": "https://localhost:8080/"
        },
        "id": "AJsS_qUNRBT5",
        "outputId": "ea4fd527-3e4e-41a9-c864-6d15c7625389"
      },
      "source": [
        "model.evaluate(x_test.toarray(), y_test.values, verbose=0)"
      ],
      "execution_count": 14,
      "outputs": [
        {
          "output_type": "execute_result",
          "data": {
            "text/plain": [
              "[0.6411446928977966, 0.7599999904632568]"
            ]
          },
          "metadata": {
            "tags": []
          },
          "execution_count": 14
        }
      ]
    },
    {
      "cell_type": "code",
      "metadata": {
        "colab": {
          "base_uri": "https://localhost:8080/"
        },
        "id": "HMu9rzaKRD-q",
        "outputId": "77ab0d25-3554-448a-8397-a5f0fcdf8d0a"
      },
      "source": [
        "model.save('imdb-sentiment.krs')"
      ],
      "execution_count": 15,
      "outputs": [
        {
          "output_type": "stream",
          "text": [
            "WARNING:tensorflow:From /usr/local/lib/python3.6/dist-packages/tensorflow/python/training/tracking/tracking.py:111: Model.state_updates (from tensorflow.python.keras.engine.training) is deprecated and will be removed in a future version.\n",
            "Instructions for updating:\n",
            "This property should not be used in TensorFlow 2.0, as updates are applied automatically.\n",
            "WARNING:tensorflow:From /usr/local/lib/python3.6/dist-packages/tensorflow/python/training/tracking/tracking.py:111: Layer.updates (from tensorflow.python.keras.engine.base_layer) is deprecated and will be removed in a future version.\n",
            "Instructions for updating:\n",
            "This property should not be used in TensorFlow 2.0, as updates are applied automatically.\n",
            "INFO:tensorflow:Assets written to: imdb-sentiment.krs/assets\n"
          ],
          "name": "stdout"
        }
      ]
    },
    {
      "cell_type": "code",
      "metadata": {
        "id": "7bGTeaUjFt7j"
      },
      "source": [
        "model = tf.keras.models.load_model('imdb-sentiment.krs')"
      ],
      "execution_count": 16,
      "outputs": []
    },
    {
      "cell_type": "markdown",
      "metadata": {
        "id": "fnsn607rRI8b"
      },
      "source": [
        "# 파라미터"
      ]
    },
    {
      "cell_type": "markdown",
      "metadata": {
        "id": "k6TiiiDORRtK"
      },
      "source": [
        "모형의 파라미터는 각 단어에 대한 가중치(`weight`)와 y절편(`bias`)이다."
      ]
    },
    {
      "cell_type": "code",
      "metadata": {
        "id": "iIlwk_eyFyxi"
      },
      "source": [
        "weight, bias = model.trainable_weights"
      ],
      "execution_count": 17,
      "outputs": []
    },
    {
      "cell_type": "markdown",
      "metadata": {
        "id": "AdaTOiyTRfth"
      },
      "source": [
        "단어와 가중치의 쌍을 표로 정리한다."
      ]
    },
    {
      "cell_type": "code",
      "metadata": {
        "id": "TGtoZbXAReSe"
      },
      "source": [
        "import pandas as pd\n",
        "\n",
        "word_weight = pd.DataFrame({\n",
        "    '단어': cv.get_feature_names(),\n",
        "    '가중치': weight.numpy().flat\n",
        "})"
      ],
      "execution_count": 18,
      "outputs": []
    },
    {
      "cell_type": "markdown",
      "metadata": {
        "id": "SQVTfXEYRkjS"
      },
      "source": [
        "# 부정 단어"
      ]
    },
    {
      "cell_type": "markdown",
      "metadata": {
        "id": "AcUEl3BaRl_u"
      },
      "source": [
        "음의 가중치를 가지는 단어가 많으면, 리뷰가 부정(0)으로 분류된다. 따라서 이들 단어는 부정 단어라고 할 수 있다.\n",
        "\n"
      ]
    },
    {
      "cell_type": "code",
      "metadata": {
        "colab": {
          "base_uri": "https://localhost:8080/",
          "height": 202
        },
        "id": "2LSArbv8RjlR",
        "outputId": "cf46a2c9-b548-433c-e852-7566668b8b50"
      },
      "source": [
        "word_weight.sort_values('가중치').head()\n"
      ],
      "execution_count": 19,
      "outputs": [
        {
          "output_type": "execute_result",
          "data": {
            "text/html": [
              "<div>\n",
              "<style scoped>\n",
              "    .dataframe tbody tr th:only-of-type {\n",
              "        vertical-align: middle;\n",
              "    }\n",
              "\n",
              "    .dataframe tbody tr th {\n",
              "        vertical-align: top;\n",
              "    }\n",
              "\n",
              "    .dataframe thead th {\n",
              "        text-align: right;\n",
              "    }\n",
              "</style>\n",
              "<table border=\"1\" class=\"dataframe\">\n",
              "  <thead>\n",
              "    <tr style=\"text-align: right;\">\n",
              "      <th></th>\n",
              "      <th>단어</th>\n",
              "      <th>가중치</th>\n",
              "    </tr>\n",
              "  </thead>\n",
              "  <tbody>\n",
              "    <tr>\n",
              "      <th>653</th>\n",
              "      <td>plot</td>\n",
              "      <td>-0.233616</td>\n",
              "    </tr>\n",
              "    <tr>\n",
              "      <th>67</th>\n",
              "      <td>bad</td>\n",
              "      <td>-0.206151</td>\n",
              "    </tr>\n",
              "    <tr>\n",
              "      <th>874</th>\n",
              "      <td>terrible</td>\n",
              "      <td>-0.204714</td>\n",
              "    </tr>\n",
              "    <tr>\n",
              "      <th>758</th>\n",
              "      <td>script</td>\n",
              "      <td>-0.173397</td>\n",
              "    </tr>\n",
              "    <tr>\n",
              "      <th>986</th>\n",
              "      <td>worst</td>\n",
              "      <td>-0.173370</td>\n",
              "    </tr>\n",
              "  </tbody>\n",
              "</table>\n",
              "</div>"
            ],
            "text/plain": [
              "           단어       가중치\n",
              "653      plot -0.233616\n",
              "67        bad -0.206151\n",
              "874  terrible -0.204714\n",
              "758    script -0.173397\n",
              "986     worst -0.173370"
            ]
          },
          "metadata": {
            "tags": []
          },
          "execution_count": 19
        }
      ]
    },
    {
      "cell_type": "markdown",
      "metadata": {
        "id": "wcjb2xhSSKp0"
      },
      "source": [
        "나쁜(bad), 끔찍한(awful), 낭비(waste) 등이 강한 음의 가중치를 가진다.\n",
        "\n"
      ]
    },
    {
      "cell_type": "markdown",
      "metadata": {
        "id": "92QQ_eV_SQH6"
      },
      "source": [
        "# 긍정 단어"
      ]
    },
    {
      "cell_type": "markdown",
      "metadata": {
        "id": "zCc-WrTrSR0c"
      },
      "source": [
        "양의 가중치를 가지는 단어가 많으면, 리뷰가 긍정(1)으로 분류된다. 따라서 이들 단어는 긍정 단어라고 할 수 있다.\n",
        "\n"
      ]
    },
    {
      "cell_type": "code",
      "metadata": {
        "colab": {
          "base_uri": "https://localhost:8080/",
          "height": 202
        },
        "id": "zinTfow0RotM",
        "outputId": "ca262a2a-1d21-4431-cf33-87d2ee6829ba"
      },
      "source": [
        "word_weight.sort_values('가중치').tail()\n"
      ],
      "execution_count": 20,
      "outputs": [
        {
          "output_type": "execute_result",
          "data": {
            "text/html": [
              "<div>\n",
              "<style scoped>\n",
              "    .dataframe tbody tr th:only-of-type {\n",
              "        vertical-align: middle;\n",
              "    }\n",
              "\n",
              "    .dataframe tbody tr th {\n",
              "        vertical-align: top;\n",
              "    }\n",
              "\n",
              "    .dataframe thead th {\n",
              "        text-align: right;\n",
              "    }\n",
              "</style>\n",
              "<table border=\"1\" class=\"dataframe\">\n",
              "  <thead>\n",
              "    <tr style=\"text-align: right;\">\n",
              "      <th></th>\n",
              "      <th>단어</th>\n",
              "      <th>가중치</th>\n",
              "    </tr>\n",
              "  </thead>\n",
              "  <tbody>\n",
              "    <tr>\n",
              "      <th>662</th>\n",
              "      <td>portrayal</td>\n",
              "      <td>0.174204</td>\n",
              "    </tr>\n",
              "    <tr>\n",
              "      <th>631</th>\n",
              "      <td>performance</td>\n",
              "      <td>0.182654</td>\n",
              "    </tr>\n",
              "    <tr>\n",
              "      <th>378</th>\n",
              "      <td>great</td>\n",
              "      <td>0.196413</td>\n",
              "    </tr>\n",
              "    <tr>\n",
              "      <th>74</th>\n",
              "      <td>beautiful</td>\n",
              "      <td>0.213577</td>\n",
              "    </tr>\n",
              "    <tr>\n",
              "      <th>976</th>\n",
              "      <td>wonderful</td>\n",
              "      <td>0.227884</td>\n",
              "    </tr>\n",
              "  </tbody>\n",
              "</table>\n",
              "</div>"
            ],
            "text/plain": [
              "              단어       가중치\n",
              "662    portrayal  0.174204\n",
              "631  performance  0.182654\n",
              "378        great  0.196413\n",
              "74     beautiful  0.213577\n",
              "976    wonderful  0.227884"
            ]
          },
          "metadata": {
            "tags": []
          },
          "execution_count": 20
        }
      ]
    },
    {
      "cell_type": "markdown",
      "metadata": {
        "id": "27rHjdFkSXzz"
      },
      "source": [
        "좋은(fine), 유쾌한(hilarious), 흥미로운(interesting) 등이 강한 양의 가중치를 가진다.\n",
        "\n"
      ]
    },
    {
      "cell_type": "code",
      "metadata": {
        "id": "eOkPc48t-SIb"
      },
      "source": [
        ""
      ],
      "execution_count": 20,
      "outputs": []
    }
  ]
}